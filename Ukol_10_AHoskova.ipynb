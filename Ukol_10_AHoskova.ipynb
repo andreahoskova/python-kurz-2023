{
 "cells": [
  {
   "cell_type": "code",
   "execution_count": 17,
   "metadata": {},
   "outputs": [
    {
     "name": "stdout",
     "output_type": "stream",
     "text": [
      "mesto\n",
      "Liberec    43775.000000\n",
      "Plzeň      44792.857143\n",
      "Praha      43295.238095\n",
      "Name: plat, dtype: float64\n"
     ]
    }
   ],
   "source": [
    "#Zadání 1:\n",
    "import pandas\n",
    "zamestnanci_praha = pandas.read_csv('zam_praha.txt')\n",
    "zamestnanci_plzen = pandas.read_csv('zam_plzeň.txt')\n",
    "zamestnanci_liberec = pandas.read_csv('zam_liberec.txt')\n",
    "\n",
    "zamestnanci_praha['mesto'] = 'Praha'\n",
    "zamestnanci_plzen['mesto'] = 'Plzeň'\n",
    "zamestnanci_liberec['mesto'] = 'Liberec'\n",
    "\n",
    "zamestnanci_celkem = []\n",
    "zamestnanci_celkem = pandas.concat([zamestnanci_praha, zamestnanci_plzen, zamestnanci_liberec],ignore_index = True)\n",
    "print(zamestnanci_celkem)\n",
    "\n",
    "platy_2021 = pandas.read_csv('platy_2021_02.txt')\n",
    "print(platy_2021)\n",
    "\n",
    "tabulka_souhrn = pandas.merge(zamestnanci_celkem, platy_2021, on = ['cislo_zamestnance'], how = 'right')\n",
    "\n",
    "prumerny_plat = tabulka_souhrn.groupby('mesto')['plat'].mean()\n",
    "print(prumerny_plat)\n",
    "\n",
    "\n",
    "\n",
    "\n",
    "\n",
    "\n",
    "\n",
    "\n",
    "\n"
   ]
  },
  {
   "cell_type": "code",
   "execution_count": 19,
   "metadata": {},
   "outputs": [
    {
     "name": "stdout",
     "output_type": "stream",
     "text": [
      "          date  hours project  emloyee_id\n",
      "0   2021-02-01    2.5     F30          13\n",
      "1   2021-02-01    3.4     W05          70\n",
      "2   2021-02-01    2.1     JL9          72\n",
      "3   2021-02-01    5.2     F30           3\n",
      "4   2021-02-01    2.4     TE1          54\n",
      "5   2021-02-01    4.1     TE1          83\n",
      "6   2021-02-01    5.4     W05          92\n",
      "7   2021-02-01    2.2     YLI          34\n",
      "8   2021-02-01    2.7     YLI          84\n",
      "9   2021-02-01    4.4     W05          30\n",
      "10  2021-02-02    5.6     F30          53\n",
      "11  2021-02-02    2.6     W05          47\n",
      "12  2021-02-02    2.4     YLI          44\n",
      "13  2021-02-02    3.1     YLI          40\n",
      "14  2021-02-02    5.3     YLI          10\n",
      "15  2021-02-02    3.6     YLI          53\n",
      "16  2021-02-02    5.6     F30          56\n",
      "17  2021-02-03    4.0     W05          53\n",
      "18  2021-02-03    4.6     TE1          86\n",
      "19  2021-02-03    2.6     F30          18\n",
      "20  2021-02-03    2.8     TE1          47\n",
      "21  2021-02-03    2.6     YLI          34\n",
      "22  2021-02-03    3.7     YLI          96\n",
      "23  2021-02-03    5.2     W05          57\n",
      "24  2021-02-03    5.5     W05          40\n",
      "25  2021-02-03    5.4     YLI          86\n",
      "26  2021-02-03    2.1     TE1          87\n",
      "         date  hours  emloyee_id\n",
      "project                         \n",
      "F30         5      5           5\n",
      "JL9         1      1           1\n",
      "TE1         5      5           5\n",
      "W05         7      7           7\n",
      "YLI         9      9           9\n"
     ]
    }
   ],
   "source": [
    "#Zadání 2:\n",
    "vykazy = pandas.read_csv('vykazy.txt')\n",
    "\n",
    "print(vykazy.groupby('project').count())"
   ]
  }
 ],
 "metadata": {
  "kernelspec": {
   "display_name": "Python 3",
   "language": "python",
   "name": "python3"
  },
  "language_info": {
   "codemirror_mode": {
    "name": "ipython",
    "version": 3
   },
   "file_extension": ".py",
   "mimetype": "text/x-python",
   "name": "python",
   "nbconvert_exporter": "python",
   "pygments_lexer": "ipython3",
   "version": "3.9.10"
  },
  "orig_nbformat": 4
 },
 "nbformat": 4,
 "nbformat_minor": 2
}
